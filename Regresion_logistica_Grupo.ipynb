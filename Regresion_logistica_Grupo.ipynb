{
 "cells": [
  {
   "cell_type": "markdown",
   "id": "7f517a9f-530f-4f29-ba6c-1f409abce5eb",
   "metadata": {},
   "source": [
    "## 1. Realizar un análisis exploratorio de los datos para identificar relaciones entre variables, valores atípicos, tendencias, etc."
   ]
  },
  {
   "cell_type": "code",
   "execution_count": 2,
   "id": "a651ad44-7785-47b9-b62c-b35d7da9fc63",
   "metadata": {},
   "outputs": [],
   "source": [
    "# Realizar un análisis exploratorio de los datos para identificar relaciones entre variables, valores atípicos, tendencias, etc.\n",
    "import pandas as pd                 # Para la manipulación de datos\n",
    "import numpy as np                  # Para operaciones numéricas\n",
    "import matplotlib.pyplot as plt      # Para visualización de datos\n",
    "import seaborn as sns               # Para visualización de datos mejorada"
   ]
  },
  {
   "cell_type": "code",
   "execution_count": 3,
   "id": "8c18015a-7166-481b-998c-8aedfc0c3718",
   "metadata": {},
   "outputs": [],
   "source": [
    "# Librerías para implementar modelos de ciencia de datos\n",
    "from sklearn import metrics                   # Para métricas de evaluación\n",
    "from sklearn.model_selection import train_test_split  # Para dividir datos en conjunto de entrenamiento y prueba\n",
    "from sklearn.linear_model import LogisticRegression  # Para regresión logística\n",
    "from sklearn.metrics import classification_report, confusion_matrix  # Para evaluación de modelos"
   ]
  },
  {
   "cell_type": "code",
   "execution_count": 4,
   "id": "3e09fc03-ae88-48b6-827a-d5e6e721dec9",
   "metadata": {},
   "outputs": [],
   "source": [
    "# lectura de datos en Python\n",
    "# Cargamos el dataset en la variable Datos\n",
    "Datos = pd.read_csv(r\"C:\\Users\\ta_ti\\Downloads\\Anexo 3 - Dataset Heart Disease Cleveland UCI\\heart_cleveland_upload.csv\")"
   ]
  },
  {
   "cell_type": "code",
   "execution_count": 5,
   "id": "9feaba6b-e975-4b2a-91a1-70afe64d9a6c",
   "metadata": {},
   "outputs": [
    {
     "data": {
      "text/html": [
       "<div>\n",
       "<style scoped>\n",
       "    .dataframe tbody tr th:only-of-type {\n",
       "        vertical-align: middle;\n",
       "    }\n",
       "\n",
       "    .dataframe tbody tr th {\n",
       "        vertical-align: top;\n",
       "    }\n",
       "\n",
       "    .dataframe thead th {\n",
       "        text-align: right;\n",
       "    }\n",
       "</style>\n",
       "<table border=\"1\" class=\"dataframe\">\n",
       "  <thead>\n",
       "    <tr style=\"text-align: right;\">\n",
       "      <th></th>\n",
       "      <th>age</th>\n",
       "      <th>sex</th>\n",
       "      <th>cp</th>\n",
       "      <th>trestbps</th>\n",
       "      <th>chol</th>\n",
       "      <th>fbs</th>\n",
       "      <th>restecg</th>\n",
       "      <th>thalach</th>\n",
       "      <th>exang</th>\n",
       "      <th>oldpeak</th>\n",
       "      <th>slope</th>\n",
       "      <th>ca</th>\n",
       "      <th>thal</th>\n",
       "      <th>condition</th>\n",
       "    </tr>\n",
       "  </thead>\n",
       "  <tbody>\n",
       "    <tr>\n",
       "      <th>0</th>\n",
       "      <td>69</td>\n",
       "      <td>1</td>\n",
       "      <td>0</td>\n",
       "      <td>160</td>\n",
       "      <td>234</td>\n",
       "      <td>1</td>\n",
       "      <td>2</td>\n",
       "      <td>131</td>\n",
       "      <td>0</td>\n",
       "      <td>0.1</td>\n",
       "      <td>1</td>\n",
       "      <td>1</td>\n",
       "      <td>0</td>\n",
       "      <td>0</td>\n",
       "    </tr>\n",
       "    <tr>\n",
       "      <th>1</th>\n",
       "      <td>69</td>\n",
       "      <td>0</td>\n",
       "      <td>0</td>\n",
       "      <td>140</td>\n",
       "      <td>239</td>\n",
       "      <td>0</td>\n",
       "      <td>0</td>\n",
       "      <td>151</td>\n",
       "      <td>0</td>\n",
       "      <td>1.8</td>\n",
       "      <td>0</td>\n",
       "      <td>2</td>\n",
       "      <td>0</td>\n",
       "      <td>0</td>\n",
       "    </tr>\n",
       "    <tr>\n",
       "      <th>2</th>\n",
       "      <td>66</td>\n",
       "      <td>0</td>\n",
       "      <td>0</td>\n",
       "      <td>150</td>\n",
       "      <td>226</td>\n",
       "      <td>0</td>\n",
       "      <td>0</td>\n",
       "      <td>114</td>\n",
       "      <td>0</td>\n",
       "      <td>2.6</td>\n",
       "      <td>2</td>\n",
       "      <td>0</td>\n",
       "      <td>0</td>\n",
       "      <td>0</td>\n",
       "    </tr>\n",
       "    <tr>\n",
       "      <th>3</th>\n",
       "      <td>65</td>\n",
       "      <td>1</td>\n",
       "      <td>0</td>\n",
       "      <td>138</td>\n",
       "      <td>282</td>\n",
       "      <td>1</td>\n",
       "      <td>2</td>\n",
       "      <td>174</td>\n",
       "      <td>0</td>\n",
       "      <td>1.4</td>\n",
       "      <td>1</td>\n",
       "      <td>1</td>\n",
       "      <td>0</td>\n",
       "      <td>1</td>\n",
       "    </tr>\n",
       "    <tr>\n",
       "      <th>4</th>\n",
       "      <td>64</td>\n",
       "      <td>1</td>\n",
       "      <td>0</td>\n",
       "      <td>110</td>\n",
       "      <td>211</td>\n",
       "      <td>0</td>\n",
       "      <td>2</td>\n",
       "      <td>144</td>\n",
       "      <td>1</td>\n",
       "      <td>1.8</td>\n",
       "      <td>1</td>\n",
       "      <td>0</td>\n",
       "      <td>0</td>\n",
       "      <td>0</td>\n",
       "    </tr>\n",
       "    <tr>\n",
       "      <th>5</th>\n",
       "      <td>64</td>\n",
       "      <td>1</td>\n",
       "      <td>0</td>\n",
       "      <td>170</td>\n",
       "      <td>227</td>\n",
       "      <td>0</td>\n",
       "      <td>2</td>\n",
       "      <td>155</td>\n",
       "      <td>0</td>\n",
       "      <td>0.6</td>\n",
       "      <td>1</td>\n",
       "      <td>0</td>\n",
       "      <td>2</td>\n",
       "      <td>0</td>\n",
       "    </tr>\n",
       "    <tr>\n",
       "      <th>6</th>\n",
       "      <td>63</td>\n",
       "      <td>1</td>\n",
       "      <td>0</td>\n",
       "      <td>145</td>\n",
       "      <td>233</td>\n",
       "      <td>1</td>\n",
       "      <td>2</td>\n",
       "      <td>150</td>\n",
       "      <td>0</td>\n",
       "      <td>2.3</td>\n",
       "      <td>2</td>\n",
       "      <td>0</td>\n",
       "      <td>1</td>\n",
       "      <td>0</td>\n",
       "    </tr>\n",
       "    <tr>\n",
       "      <th>7</th>\n",
       "      <td>61</td>\n",
       "      <td>1</td>\n",
       "      <td>0</td>\n",
       "      <td>134</td>\n",
       "      <td>234</td>\n",
       "      <td>0</td>\n",
       "      <td>0</td>\n",
       "      <td>145</td>\n",
       "      <td>0</td>\n",
       "      <td>2.6</td>\n",
       "      <td>1</td>\n",
       "      <td>2</td>\n",
       "      <td>0</td>\n",
       "      <td>1</td>\n",
       "    </tr>\n",
       "    <tr>\n",
       "      <th>8</th>\n",
       "      <td>60</td>\n",
       "      <td>0</td>\n",
       "      <td>0</td>\n",
       "      <td>150</td>\n",
       "      <td>240</td>\n",
       "      <td>0</td>\n",
       "      <td>0</td>\n",
       "      <td>171</td>\n",
       "      <td>0</td>\n",
       "      <td>0.9</td>\n",
       "      <td>0</td>\n",
       "      <td>0</td>\n",
       "      <td>0</td>\n",
       "      <td>0</td>\n",
       "    </tr>\n",
       "    <tr>\n",
       "      <th>9</th>\n",
       "      <td>59</td>\n",
       "      <td>1</td>\n",
       "      <td>0</td>\n",
       "      <td>178</td>\n",
       "      <td>270</td>\n",
       "      <td>0</td>\n",
       "      <td>2</td>\n",
       "      <td>145</td>\n",
       "      <td>0</td>\n",
       "      <td>4.2</td>\n",
       "      <td>2</td>\n",
       "      <td>0</td>\n",
       "      <td>2</td>\n",
       "      <td>0</td>\n",
       "    </tr>\n",
       "    <tr>\n",
       "      <th>10</th>\n",
       "      <td>59</td>\n",
       "      <td>1</td>\n",
       "      <td>0</td>\n",
       "      <td>170</td>\n",
       "      <td>288</td>\n",
       "      <td>0</td>\n",
       "      <td>2</td>\n",
       "      <td>159</td>\n",
       "      <td>0</td>\n",
       "      <td>0.2</td>\n",
       "      <td>1</td>\n",
       "      <td>0</td>\n",
       "      <td>2</td>\n",
       "      <td>1</td>\n",
       "    </tr>\n",
       "    <tr>\n",
       "      <th>11</th>\n",
       "      <td>59</td>\n",
       "      <td>1</td>\n",
       "      <td>0</td>\n",
       "      <td>160</td>\n",
       "      <td>273</td>\n",
       "      <td>0</td>\n",
       "      <td>2</td>\n",
       "      <td>125</td>\n",
       "      <td>0</td>\n",
       "      <td>0.0</td>\n",
       "      <td>0</td>\n",
       "      <td>0</td>\n",
       "      <td>0</td>\n",
       "      <td>1</td>\n",
       "    </tr>\n",
       "    <tr>\n",
       "      <th>12</th>\n",
       "      <td>59</td>\n",
       "      <td>1</td>\n",
       "      <td>0</td>\n",
       "      <td>134</td>\n",
       "      <td>204</td>\n",
       "      <td>0</td>\n",
       "      <td>0</td>\n",
       "      <td>162</td>\n",
       "      <td>0</td>\n",
       "      <td>0.8</td>\n",
       "      <td>0</td>\n",
       "      <td>2</td>\n",
       "      <td>0</td>\n",
       "      <td>1</td>\n",
       "    </tr>\n",
       "    <tr>\n",
       "      <th>13</th>\n",
       "      <td>58</td>\n",
       "      <td>0</td>\n",
       "      <td>0</td>\n",
       "      <td>150</td>\n",
       "      <td>283</td>\n",
       "      <td>1</td>\n",
       "      <td>2</td>\n",
       "      <td>162</td>\n",
       "      <td>0</td>\n",
       "      <td>1.0</td>\n",
       "      <td>0</td>\n",
       "      <td>0</td>\n",
       "      <td>0</td>\n",
       "      <td>0</td>\n",
       "    </tr>\n",
       "    <tr>\n",
       "      <th>14</th>\n",
       "      <td>56</td>\n",
       "      <td>1</td>\n",
       "      <td>0</td>\n",
       "      <td>120</td>\n",
       "      <td>193</td>\n",
       "      <td>0</td>\n",
       "      <td>2</td>\n",
       "      <td>162</td>\n",
       "      <td>0</td>\n",
       "      <td>1.9</td>\n",
       "      <td>1</td>\n",
       "      <td>0</td>\n",
       "      <td>2</td>\n",
       "      <td>0</td>\n",
       "    </tr>\n",
       "    <tr>\n",
       "      <th>15</th>\n",
       "      <td>52</td>\n",
       "      <td>1</td>\n",
       "      <td>0</td>\n",
       "      <td>118</td>\n",
       "      <td>186</td>\n",
       "      <td>0</td>\n",
       "      <td>2</td>\n",
       "      <td>190</td>\n",
       "      <td>0</td>\n",
       "      <td>0.0</td>\n",
       "      <td>1</td>\n",
       "      <td>0</td>\n",
       "      <td>1</td>\n",
       "      <td>0</td>\n",
       "    </tr>\n",
       "    <tr>\n",
       "      <th>16</th>\n",
       "      <td>52</td>\n",
       "      <td>1</td>\n",
       "      <td>0</td>\n",
       "      <td>152</td>\n",
       "      <td>298</td>\n",
       "      <td>1</td>\n",
       "      <td>0</td>\n",
       "      <td>178</td>\n",
       "      <td>0</td>\n",
       "      <td>1.2</td>\n",
       "      <td>1</td>\n",
       "      <td>0</td>\n",
       "      <td>2</td>\n",
       "      <td>0</td>\n",
       "    </tr>\n",
       "    <tr>\n",
       "      <th>17</th>\n",
       "      <td>51</td>\n",
       "      <td>1</td>\n",
       "      <td>0</td>\n",
       "      <td>125</td>\n",
       "      <td>213</td>\n",
       "      <td>0</td>\n",
       "      <td>2</td>\n",
       "      <td>125</td>\n",
       "      <td>1</td>\n",
       "      <td>1.4</td>\n",
       "      <td>0</td>\n",
       "      <td>1</td>\n",
       "      <td>0</td>\n",
       "      <td>0</td>\n",
       "    </tr>\n",
       "    <tr>\n",
       "      <th>18</th>\n",
       "      <td>45</td>\n",
       "      <td>1</td>\n",
       "      <td>0</td>\n",
       "      <td>110</td>\n",
       "      <td>264</td>\n",
       "      <td>0</td>\n",
       "      <td>0</td>\n",
       "      <td>132</td>\n",
       "      <td>0</td>\n",
       "      <td>1.2</td>\n",
       "      <td>1</td>\n",
       "      <td>0</td>\n",
       "      <td>2</td>\n",
       "      <td>1</td>\n",
       "    </tr>\n",
       "    <tr>\n",
       "      <th>19</th>\n",
       "      <td>42</td>\n",
       "      <td>1</td>\n",
       "      <td>0</td>\n",
       "      <td>148</td>\n",
       "      <td>244</td>\n",
       "      <td>0</td>\n",
       "      <td>2</td>\n",
       "      <td>178</td>\n",
       "      <td>0</td>\n",
       "      <td>0.8</td>\n",
       "      <td>0</td>\n",
       "      <td>2</td>\n",
       "      <td>0</td>\n",
       "      <td>0</td>\n",
       "    </tr>\n",
       "    <tr>\n",
       "      <th>20</th>\n",
       "      <td>40</td>\n",
       "      <td>1</td>\n",
       "      <td>0</td>\n",
       "      <td>140</td>\n",
       "      <td>199</td>\n",
       "      <td>0</td>\n",
       "      <td>0</td>\n",
       "      <td>178</td>\n",
       "      <td>1</td>\n",
       "      <td>1.4</td>\n",
       "      <td>0</td>\n",
       "      <td>0</td>\n",
       "      <td>2</td>\n",
       "      <td>0</td>\n",
       "    </tr>\n",
       "    <tr>\n",
       "      <th>21</th>\n",
       "      <td>38</td>\n",
       "      <td>1</td>\n",
       "      <td>0</td>\n",
       "      <td>120</td>\n",
       "      <td>231</td>\n",
       "      <td>0</td>\n",
       "      <td>0</td>\n",
       "      <td>182</td>\n",
       "      <td>1</td>\n",
       "      <td>3.8</td>\n",
       "      <td>1</td>\n",
       "      <td>0</td>\n",
       "      <td>2</td>\n",
       "      <td>1</td>\n",
       "    </tr>\n",
       "    <tr>\n",
       "      <th>22</th>\n",
       "      <td>34</td>\n",
       "      <td>1</td>\n",
       "      <td>0</td>\n",
       "      <td>118</td>\n",
       "      <td>182</td>\n",
       "      <td>0</td>\n",
       "      <td>2</td>\n",
       "      <td>174</td>\n",
       "      <td>0</td>\n",
       "      <td>0.0</td>\n",
       "      <td>0</td>\n",
       "      <td>0</td>\n",
       "      <td>0</td>\n",
       "      <td>0</td>\n",
       "    </tr>\n",
       "    <tr>\n",
       "      <th>23</th>\n",
       "      <td>74</td>\n",
       "      <td>0</td>\n",
       "      <td>1</td>\n",
       "      <td>120</td>\n",
       "      <td>269</td>\n",
       "      <td>0</td>\n",
       "      <td>2</td>\n",
       "      <td>121</td>\n",
       "      <td>1</td>\n",
       "      <td>0.2</td>\n",
       "      <td>0</td>\n",
       "      <td>1</td>\n",
       "      <td>0</td>\n",
       "      <td>0</td>\n",
       "    </tr>\n",
       "    <tr>\n",
       "      <th>24</th>\n",
       "      <td>71</td>\n",
       "      <td>0</td>\n",
       "      <td>1</td>\n",
       "      <td>160</td>\n",
       "      <td>302</td>\n",
       "      <td>0</td>\n",
       "      <td>0</td>\n",
       "      <td>162</td>\n",
       "      <td>0</td>\n",
       "      <td>0.4</td>\n",
       "      <td>0</td>\n",
       "      <td>2</td>\n",
       "      <td>0</td>\n",
       "      <td>0</td>\n",
       "    </tr>\n",
       "    <tr>\n",
       "      <th>25</th>\n",
       "      <td>70</td>\n",
       "      <td>1</td>\n",
       "      <td>1</td>\n",
       "      <td>156</td>\n",
       "      <td>245</td>\n",
       "      <td>0</td>\n",
       "      <td>2</td>\n",
       "      <td>143</td>\n",
       "      <td>0</td>\n",
       "      <td>0.0</td>\n",
       "      <td>0</td>\n",
       "      <td>0</td>\n",
       "      <td>0</td>\n",
       "      <td>0</td>\n",
       "    </tr>\n",
       "    <tr>\n",
       "      <th>26</th>\n",
       "      <td>66</td>\n",
       "      <td>1</td>\n",
       "      <td>1</td>\n",
       "      <td>160</td>\n",
       "      <td>246</td>\n",
       "      <td>0</td>\n",
       "      <td>0</td>\n",
       "      <td>120</td>\n",
       "      <td>1</td>\n",
       "      <td>0.0</td>\n",
       "      <td>1</td>\n",
       "      <td>3</td>\n",
       "      <td>1</td>\n",
       "      <td>1</td>\n",
       "    </tr>\n",
       "    <tr>\n",
       "      <th>27</th>\n",
       "      <td>63</td>\n",
       "      <td>0</td>\n",
       "      <td>1</td>\n",
       "      <td>140</td>\n",
       "      <td>195</td>\n",
       "      <td>0</td>\n",
       "      <td>0</td>\n",
       "      <td>179</td>\n",
       "      <td>0</td>\n",
       "      <td>0.0</td>\n",
       "      <td>0</td>\n",
       "      <td>2</td>\n",
       "      <td>0</td>\n",
       "      <td>0</td>\n",
       "    </tr>\n",
       "    <tr>\n",
       "      <th>28</th>\n",
       "      <td>62</td>\n",
       "      <td>1</td>\n",
       "      <td>1</td>\n",
       "      <td>120</td>\n",
       "      <td>281</td>\n",
       "      <td>0</td>\n",
       "      <td>2</td>\n",
       "      <td>103</td>\n",
       "      <td>0</td>\n",
       "      <td>1.4</td>\n",
       "      <td>1</td>\n",
       "      <td>1</td>\n",
       "      <td>2</td>\n",
       "      <td>1</td>\n",
       "    </tr>\n",
       "    <tr>\n",
       "      <th>29</th>\n",
       "      <td>62</td>\n",
       "      <td>1</td>\n",
       "      <td>1</td>\n",
       "      <td>128</td>\n",
       "      <td>208</td>\n",
       "      <td>1</td>\n",
       "      <td>2</td>\n",
       "      <td>140</td>\n",
       "      <td>0</td>\n",
       "      <td>0.0</td>\n",
       "      <td>0</td>\n",
       "      <td>0</td>\n",
       "      <td>0</td>\n",
       "      <td>0</td>\n",
       "    </tr>\n",
       "    <tr>\n",
       "      <th>30</th>\n",
       "      <td>59</td>\n",
       "      <td>1</td>\n",
       "      <td>1</td>\n",
       "      <td>140</td>\n",
       "      <td>221</td>\n",
       "      <td>0</td>\n",
       "      <td>0</td>\n",
       "      <td>164</td>\n",
       "      <td>1</td>\n",
       "      <td>0.0</td>\n",
       "      <td>0</td>\n",
       "      <td>0</td>\n",
       "      <td>0</td>\n",
       "      <td>0</td>\n",
       "    </tr>\n",
       "    <tr>\n",
       "      <th>31</th>\n",
       "      <td>58</td>\n",
       "      <td>1</td>\n",
       "      <td>1</td>\n",
       "      <td>120</td>\n",
       "      <td>284</td>\n",
       "      <td>0</td>\n",
       "      <td>2</td>\n",
       "      <td>160</td>\n",
       "      <td>0</td>\n",
       "      <td>1.8</td>\n",
       "      <td>1</td>\n",
       "      <td>0</td>\n",
       "      <td>0</td>\n",
       "      <td>1</td>\n",
       "    </tr>\n",
       "    <tr>\n",
       "      <th>32</th>\n",
       "      <td>58</td>\n",
       "      <td>0</td>\n",
       "      <td>1</td>\n",
       "      <td>136</td>\n",
       "      <td>319</td>\n",
       "      <td>1</td>\n",
       "      <td>2</td>\n",
       "      <td>152</td>\n",
       "      <td>0</td>\n",
       "      <td>0.0</td>\n",
       "      <td>0</td>\n",
       "      <td>2</td>\n",
       "      <td>0</td>\n",
       "      <td>1</td>\n",
       "    </tr>\n",
       "    <tr>\n",
       "      <th>33</th>\n",
       "      <td>57</td>\n",
       "      <td>0</td>\n",
       "      <td>1</td>\n",
       "      <td>130</td>\n",
       "      <td>236</td>\n",
       "      <td>0</td>\n",
       "      <td>2</td>\n",
       "      <td>174</td>\n",
       "      <td>0</td>\n",
       "      <td>0.0</td>\n",
       "      <td>1</td>\n",
       "      <td>1</td>\n",
       "      <td>0</td>\n",
       "      <td>1</td>\n",
       "    </tr>\n",
       "    <tr>\n",
       "      <th>34</th>\n",
       "      <td>57</td>\n",
       "      <td>1</td>\n",
       "      <td>1</td>\n",
       "      <td>124</td>\n",
       "      <td>261</td>\n",
       "      <td>0</td>\n",
       "      <td>0</td>\n",
       "      <td>141</td>\n",
       "      <td>0</td>\n",
       "      <td>0.3</td>\n",
       "      <td>0</td>\n",
       "      <td>0</td>\n",
       "      <td>2</td>\n",
       "      <td>1</td>\n",
       "    </tr>\n",
       "    <tr>\n",
       "      <th>35</th>\n",
       "      <td>57</td>\n",
       "      <td>1</td>\n",
       "      <td>1</td>\n",
       "      <td>154</td>\n",
       "      <td>232</td>\n",
       "      <td>0</td>\n",
       "      <td>2</td>\n",
       "      <td>164</td>\n",
       "      <td>0</td>\n",
       "      <td>0.0</td>\n",
       "      <td>0</td>\n",
       "      <td>1</td>\n",
       "      <td>0</td>\n",
       "      <td>1</td>\n",
       "    </tr>\n",
       "    <tr>\n",
       "      <th>36</th>\n",
       "      <td>56</td>\n",
       "      <td>1</td>\n",
       "      <td>1</td>\n",
       "      <td>120</td>\n",
       "      <td>240</td>\n",
       "      <td>0</td>\n",
       "      <td>0</td>\n",
       "      <td>169</td>\n",
       "      <td>0</td>\n",
       "      <td>0.0</td>\n",
       "      <td>2</td>\n",
       "      <td>0</td>\n",
       "      <td>0</td>\n",
       "      <td>0</td>\n",
       "    </tr>\n",
       "    <tr>\n",
       "      <th>37</th>\n",
       "      <td>56</td>\n",
       "      <td>0</td>\n",
       "      <td>1</td>\n",
       "      <td>140</td>\n",
       "      <td>294</td>\n",
       "      <td>0</td>\n",
       "      <td>2</td>\n",
       "      <td>153</td>\n",
       "      <td>0</td>\n",
       "      <td>1.3</td>\n",
       "      <td>1</td>\n",
       "      <td>0</td>\n",
       "      <td>0</td>\n",
       "      <td>0</td>\n",
       "    </tr>\n",
       "    <tr>\n",
       "      <th>38</th>\n",
       "      <td>56</td>\n",
       "      <td>1</td>\n",
       "      <td>1</td>\n",
       "      <td>120</td>\n",
       "      <td>236</td>\n",
       "      <td>0</td>\n",
       "      <td>0</td>\n",
       "      <td>178</td>\n",
       "      <td>0</td>\n",
       "      <td>0.8</td>\n",
       "      <td>0</td>\n",
       "      <td>0</td>\n",
       "      <td>0</td>\n",
       "      <td>0</td>\n",
       "    </tr>\n",
       "    <tr>\n",
       "      <th>39</th>\n",
       "      <td>56</td>\n",
       "      <td>1</td>\n",
       "      <td>1</td>\n",
       "      <td>130</td>\n",
       "      <td>221</td>\n",
       "      <td>0</td>\n",
       "      <td>2</td>\n",
       "      <td>163</td>\n",
       "      <td>0</td>\n",
       "      <td>0.0</td>\n",
       "      <td>0</td>\n",
       "      <td>0</td>\n",
       "      <td>2</td>\n",
       "      <td>0</td>\n",
       "    </tr>\n",
       "  </tbody>\n",
       "</table>\n",
       "</div>"
      ],
      "text/plain": [
       "    age  sex  cp  trestbps  chol  fbs  restecg  thalach  exang  oldpeak  \\\n",
       "0    69    1   0       160   234    1        2      131      0      0.1   \n",
       "1    69    0   0       140   239    0        0      151      0      1.8   \n",
       "2    66    0   0       150   226    0        0      114      0      2.6   \n",
       "3    65    1   0       138   282    1        2      174      0      1.4   \n",
       "4    64    1   0       110   211    0        2      144      1      1.8   \n",
       "5    64    1   0       170   227    0        2      155      0      0.6   \n",
       "6    63    1   0       145   233    1        2      150      0      2.3   \n",
       "7    61    1   0       134   234    0        0      145      0      2.6   \n",
       "8    60    0   0       150   240    0        0      171      0      0.9   \n",
       "9    59    1   0       178   270    0        2      145      0      4.2   \n",
       "10   59    1   0       170   288    0        2      159      0      0.2   \n",
       "11   59    1   0       160   273    0        2      125      0      0.0   \n",
       "12   59    1   0       134   204    0        0      162      0      0.8   \n",
       "13   58    0   0       150   283    1        2      162      0      1.0   \n",
       "14   56    1   0       120   193    0        2      162      0      1.9   \n",
       "15   52    1   0       118   186    0        2      190      0      0.0   \n",
       "16   52    1   0       152   298    1        0      178      0      1.2   \n",
       "17   51    1   0       125   213    0        2      125      1      1.4   \n",
       "18   45    1   0       110   264    0        0      132      0      1.2   \n",
       "19   42    1   0       148   244    0        2      178      0      0.8   \n",
       "20   40    1   0       140   199    0        0      178      1      1.4   \n",
       "21   38    1   0       120   231    0        0      182      1      3.8   \n",
       "22   34    1   0       118   182    0        2      174      0      0.0   \n",
       "23   74    0   1       120   269    0        2      121      1      0.2   \n",
       "24   71    0   1       160   302    0        0      162      0      0.4   \n",
       "25   70    1   1       156   245    0        2      143      0      0.0   \n",
       "26   66    1   1       160   246    0        0      120      1      0.0   \n",
       "27   63    0   1       140   195    0        0      179      0      0.0   \n",
       "28   62    1   1       120   281    0        2      103      0      1.4   \n",
       "29   62    1   1       128   208    1        2      140      0      0.0   \n",
       "30   59    1   1       140   221    0        0      164      1      0.0   \n",
       "31   58    1   1       120   284    0        2      160      0      1.8   \n",
       "32   58    0   1       136   319    1        2      152      0      0.0   \n",
       "33   57    0   1       130   236    0        2      174      0      0.0   \n",
       "34   57    1   1       124   261    0        0      141      0      0.3   \n",
       "35   57    1   1       154   232    0        2      164      0      0.0   \n",
       "36   56    1   1       120   240    0        0      169      0      0.0   \n",
       "37   56    0   1       140   294    0        2      153      0      1.3   \n",
       "38   56    1   1       120   236    0        0      178      0      0.8   \n",
       "39   56    1   1       130   221    0        2      163      0      0.0   \n",
       "\n",
       "    slope  ca  thal  condition  \n",
       "0       1   1     0          0  \n",
       "1       0   2     0          0  \n",
       "2       2   0     0          0  \n",
       "3       1   1     0          1  \n",
       "4       1   0     0          0  \n",
       "5       1   0     2          0  \n",
       "6       2   0     1          0  \n",
       "7       1   2     0          1  \n",
       "8       0   0     0          0  \n",
       "9       2   0     2          0  \n",
       "10      1   0     2          1  \n",
       "11      0   0     0          1  \n",
       "12      0   2     0          1  \n",
       "13      0   0     0          0  \n",
       "14      1   0     2          0  \n",
       "15      1   0     1          0  \n",
       "16      1   0     2          0  \n",
       "17      0   1     0          0  \n",
       "18      1   0     2          1  \n",
       "19      0   2     0          0  \n",
       "20      0   0     2          0  \n",
       "21      1   0     2          1  \n",
       "22      0   0     0          0  \n",
       "23      0   1     0          0  \n",
       "24      0   2     0          0  \n",
       "25      0   0     0          0  \n",
       "26      1   3     1          1  \n",
       "27      0   2     0          0  \n",
       "28      1   1     2          1  \n",
       "29      0   0     0          0  \n",
       "30      0   0     0          0  \n",
       "31      1   0     0          1  \n",
       "32      0   2     0          1  \n",
       "33      1   1     0          1  \n",
       "34      0   0     2          1  \n",
       "35      0   1     0          1  \n",
       "36      2   0     0          0  \n",
       "37      1   0     0          0  \n",
       "38      0   0     0          0  \n",
       "39      0   0     2          0  "
      ]
     },
     "execution_count": 5,
     "metadata": {},
     "output_type": "execute_result"
    }
   ],
   "source": [
    "# Realizamos lectura de los Datos para el análisis exploratorio\n",
    "\n",
    "Datos.head(40)"
   ]
  },
  {
   "cell_type": "code",
   "execution_count": 6,
   "id": "589467f6-14dc-4014-83e1-a13710588736",
   "metadata": {},
   "outputs": [
    {
     "data": {
      "text/html": [
       "<div>\n",
       "<style scoped>\n",
       "    .dataframe tbody tr th:only-of-type {\n",
       "        vertical-align: middle;\n",
       "    }\n",
       "\n",
       "    .dataframe tbody tr th {\n",
       "        vertical-align: top;\n",
       "    }\n",
       "\n",
       "    .dataframe thead th {\n",
       "        text-align: right;\n",
       "    }\n",
       "</style>\n",
       "<table border=\"1\" class=\"dataframe\">\n",
       "  <thead>\n",
       "    <tr style=\"text-align: right;\">\n",
       "      <th></th>\n",
       "      <th>age</th>\n",
       "      <th>sex</th>\n",
       "      <th>cp</th>\n",
       "      <th>trestbps</th>\n",
       "      <th>chol</th>\n",
       "      <th>fbs</th>\n",
       "      <th>restecg</th>\n",
       "      <th>thalach</th>\n",
       "      <th>exang</th>\n",
       "      <th>oldpeak</th>\n",
       "      <th>slope</th>\n",
       "      <th>ca</th>\n",
       "      <th>thal</th>\n",
       "      <th>condition</th>\n",
       "    </tr>\n",
       "  </thead>\n",
       "  <tbody>\n",
       "    <tr>\n",
       "      <th>count</th>\n",
       "      <td>297.000000</td>\n",
       "      <td>297.000000</td>\n",
       "      <td>297.000000</td>\n",
       "      <td>297.000000</td>\n",
       "      <td>297.000000</td>\n",
       "      <td>297.000000</td>\n",
       "      <td>297.000000</td>\n",
       "      <td>297.000000</td>\n",
       "      <td>297.000000</td>\n",
       "      <td>297.000000</td>\n",
       "      <td>297.000000</td>\n",
       "      <td>297.000000</td>\n",
       "      <td>297.000000</td>\n",
       "      <td>297.000000</td>\n",
       "    </tr>\n",
       "    <tr>\n",
       "      <th>mean</th>\n",
       "      <td>54.542088</td>\n",
       "      <td>0.676768</td>\n",
       "      <td>2.158249</td>\n",
       "      <td>131.693603</td>\n",
       "      <td>247.350168</td>\n",
       "      <td>0.144781</td>\n",
       "      <td>0.996633</td>\n",
       "      <td>149.599327</td>\n",
       "      <td>0.326599</td>\n",
       "      <td>1.055556</td>\n",
       "      <td>0.602694</td>\n",
       "      <td>0.676768</td>\n",
       "      <td>0.835017</td>\n",
       "      <td>0.461279</td>\n",
       "    </tr>\n",
       "    <tr>\n",
       "      <th>std</th>\n",
       "      <td>9.049736</td>\n",
       "      <td>0.468500</td>\n",
       "      <td>0.964859</td>\n",
       "      <td>17.762806</td>\n",
       "      <td>51.997583</td>\n",
       "      <td>0.352474</td>\n",
       "      <td>0.994914</td>\n",
       "      <td>22.941562</td>\n",
       "      <td>0.469761</td>\n",
       "      <td>1.166123</td>\n",
       "      <td>0.618187</td>\n",
       "      <td>0.938965</td>\n",
       "      <td>0.956690</td>\n",
       "      <td>0.499340</td>\n",
       "    </tr>\n",
       "    <tr>\n",
       "      <th>min</th>\n",
       "      <td>29.000000</td>\n",
       "      <td>0.000000</td>\n",
       "      <td>0.000000</td>\n",
       "      <td>94.000000</td>\n",
       "      <td>126.000000</td>\n",
       "      <td>0.000000</td>\n",
       "      <td>0.000000</td>\n",
       "      <td>71.000000</td>\n",
       "      <td>0.000000</td>\n",
       "      <td>0.000000</td>\n",
       "      <td>0.000000</td>\n",
       "      <td>0.000000</td>\n",
       "      <td>0.000000</td>\n",
       "      <td>0.000000</td>\n",
       "    </tr>\n",
       "    <tr>\n",
       "      <th>25%</th>\n",
       "      <td>48.000000</td>\n",
       "      <td>0.000000</td>\n",
       "      <td>2.000000</td>\n",
       "      <td>120.000000</td>\n",
       "      <td>211.000000</td>\n",
       "      <td>0.000000</td>\n",
       "      <td>0.000000</td>\n",
       "      <td>133.000000</td>\n",
       "      <td>0.000000</td>\n",
       "      <td>0.000000</td>\n",
       "      <td>0.000000</td>\n",
       "      <td>0.000000</td>\n",
       "      <td>0.000000</td>\n",
       "      <td>0.000000</td>\n",
       "    </tr>\n",
       "    <tr>\n",
       "      <th>50%</th>\n",
       "      <td>56.000000</td>\n",
       "      <td>1.000000</td>\n",
       "      <td>2.000000</td>\n",
       "      <td>130.000000</td>\n",
       "      <td>243.000000</td>\n",
       "      <td>0.000000</td>\n",
       "      <td>1.000000</td>\n",
       "      <td>153.000000</td>\n",
       "      <td>0.000000</td>\n",
       "      <td>0.800000</td>\n",
       "      <td>1.000000</td>\n",
       "      <td>0.000000</td>\n",
       "      <td>0.000000</td>\n",
       "      <td>0.000000</td>\n",
       "    </tr>\n",
       "    <tr>\n",
       "      <th>75%</th>\n",
       "      <td>61.000000</td>\n",
       "      <td>1.000000</td>\n",
       "      <td>3.000000</td>\n",
       "      <td>140.000000</td>\n",
       "      <td>276.000000</td>\n",
       "      <td>0.000000</td>\n",
       "      <td>2.000000</td>\n",
       "      <td>166.000000</td>\n",
       "      <td>1.000000</td>\n",
       "      <td>1.600000</td>\n",
       "      <td>1.000000</td>\n",
       "      <td>1.000000</td>\n",
       "      <td>2.000000</td>\n",
       "      <td>1.000000</td>\n",
       "    </tr>\n",
       "    <tr>\n",
       "      <th>max</th>\n",
       "      <td>77.000000</td>\n",
       "      <td>1.000000</td>\n",
       "      <td>3.000000</td>\n",
       "      <td>200.000000</td>\n",
       "      <td>564.000000</td>\n",
       "      <td>1.000000</td>\n",
       "      <td>2.000000</td>\n",
       "      <td>202.000000</td>\n",
       "      <td>1.000000</td>\n",
       "      <td>6.200000</td>\n",
       "      <td>2.000000</td>\n",
       "      <td>3.000000</td>\n",
       "      <td>2.000000</td>\n",
       "      <td>1.000000</td>\n",
       "    </tr>\n",
       "  </tbody>\n",
       "</table>\n",
       "</div>"
      ],
      "text/plain": [
       "              age         sex          cp    trestbps        chol         fbs  \\\n",
       "count  297.000000  297.000000  297.000000  297.000000  297.000000  297.000000   \n",
       "mean    54.542088    0.676768    2.158249  131.693603  247.350168    0.144781   \n",
       "std      9.049736    0.468500    0.964859   17.762806   51.997583    0.352474   \n",
       "min     29.000000    0.000000    0.000000   94.000000  126.000000    0.000000   \n",
       "25%     48.000000    0.000000    2.000000  120.000000  211.000000    0.000000   \n",
       "50%     56.000000    1.000000    2.000000  130.000000  243.000000    0.000000   \n",
       "75%     61.000000    1.000000    3.000000  140.000000  276.000000    0.000000   \n",
       "max     77.000000    1.000000    3.000000  200.000000  564.000000    1.000000   \n",
       "\n",
       "          restecg     thalach       exang     oldpeak       slope          ca  \\\n",
       "count  297.000000  297.000000  297.000000  297.000000  297.000000  297.000000   \n",
       "mean     0.996633  149.599327    0.326599    1.055556    0.602694    0.676768   \n",
       "std      0.994914   22.941562    0.469761    1.166123    0.618187    0.938965   \n",
       "min      0.000000   71.000000    0.000000    0.000000    0.000000    0.000000   \n",
       "25%      0.000000  133.000000    0.000000    0.000000    0.000000    0.000000   \n",
       "50%      1.000000  153.000000    0.000000    0.800000    1.000000    0.000000   \n",
       "75%      2.000000  166.000000    1.000000    1.600000    1.000000    1.000000   \n",
       "max      2.000000  202.000000    1.000000    6.200000    2.000000    3.000000   \n",
       "\n",
       "             thal   condition  \n",
       "count  297.000000  297.000000  \n",
       "mean     0.835017    0.461279  \n",
       "std      0.956690    0.499340  \n",
       "min      0.000000    0.000000  \n",
       "25%      0.000000    0.000000  \n",
       "50%      0.000000    0.000000  \n",
       "75%      2.000000    1.000000  \n",
       "max      2.000000    1.000000  "
      ]
     },
     "execution_count": 6,
     "metadata": {},
     "output_type": "execute_result"
    }
   ],
   "source": [
    "# Descripción de los datos\n",
    "# Se obtienen estadísticas descriptivas de los datos\n",
    "Datos.describe()"
   ]
  },
  {
   "cell_type": "code",
   "execution_count": 7,
   "id": "7ef3823e-dc24-4eb5-aad5-48f5e1808026",
   "metadata": {},
   "outputs": [
    {
     "data": {
      "image/png": "[encoded data removed]",
      "text/plain": [
       "<Figure size 600x300 with 1 Axes>"
      ]
     },
     "metadata": {},
     "output_type": "display_data"
    }
   ],
   "source": [
    "# Identificación de Datos Faltantes y Atípicos en la Edad\n",
    "# Gráfica boxplot para identificar outliers en la edad\n",
    "plt.figure(figsize=(6, 3))\n",
    "sns.boxplot(x=Datos['age']) \n",
    "plt.title('Identificación de Datos Faltantes y Atípicos en Edad', fontsize=10)\n",
    "plt.xlabel('Edad')\n",
    "plt.show()"
   ]
  },
  {
   "cell_type": "code",
   "execution_count": 8,
   "id": "8569ea73-efd2-4aad-b750-8310f9908309",
   "metadata": {},
   "outputs": [
    {
     "data": {
      "text/plain": [
       "Text(0.5, 1.0, 'Identificación de Datos Faltantes y Atípicos en Presión Arterial')"
      ]
     },
     "execution_count": 8,
     "metadata": {},
     "output_type": "execute_result"
    },
    {
     "data": {
      "image/png": "[encoded data removed]",
      "text/plain": [
       "<Figure size 600x300 with 1 Axes>"
      ]
     },
     "metadata": {},
     "output_type": "display_data"
    }
   ],
   "source": [
    "#Identificación de Datos Faltantes y Atípicos\n",
    "# Gráfica boxplot para identificar outliers en la presión arterial\n",
    "plt.figure(figsize=(6, 3))\n",
    "sns.boxplot(x=Datos['trestbps']) \n",
    "plt.title('Identificación de Datos Faltantes y Atípicos en Presión Arterial', fontsize=10)"
   ]
  },
  {
   "cell_type": "code",
   "execution_count": 9,
   "id": "bdc9f95d-f714-4f54-8140-44e5c0b127ea",
   "metadata": {},
   "outputs": [
    {
     "data": {
      "text/plain": [
       "Text(0.5, 1.0, 'Identificación de Datos Atípicos en Colesterol')"
      ]
     },
     "execution_count": 9,
     "metadata": {},
     "output_type": "execute_result"
    },
    {
     "data": {
      "image/png": "[encoded data removed]",
      "text/plain": [
       "<Figure size 640x480 with 1 Axes>"
      ]
     },
     "metadata": {},
     "output_type": "display_data"
    }
   ],
   "source": [
    "#Identificación de Datos Faltantes y Atípicos\n",
    "# Boxplot para identificar outliers en colesterol\n",
    "sns.boxplot(x=Datos['chol'])\n",
    "plt.title('Identificación de Datos Atípicos en Colesterol')"
   ]
  },
  {
   "cell_type": "code",
   "execution_count": 10,
   "id": "572e6c54-9539-490d-8b8a-077b459b1148",
   "metadata": {},
   "outputs": [
    {
     "data": {
      "text/plain": [
       "Text(0.5, 1.0, 'Identificación de Datos Atípicos en Frecuencia Cardíaca Máxima')"
      ]
     },
     "execution_count": 10,
     "metadata": {},
     "output_type": "execute_result"
    },
    {
     "data": {
      "image/png": "[encoded data removed]",
      "text/plain": [
       "<Figure size 640x480 with 1 Axes>"
      ]
     },
     "metadata": {},
     "output_type": "display_data"
    }
   ],
   "source": [
    "#Identificación de Datos Faltantes y Atípicos\n",
    "# Boxplot para identificar outliers en frecuencia cardíaca máxima\n",
    "sns.boxplot(x=Datos['thalach'])\n",
    "plt.title('Identificación de Datos Atípicos en Frecuencia Cardíaca Máxima')"
   ]
  },
  {
   "cell_type": "code",
   "execution_count": 11,
   "id": "0d750319-b1ac-4ed2-ab49-8133448e19e6",
   "metadata": {},
   "outputs": [
    {
     "data": {
      "text/plain": [
       "Text(0.5, 1.0, 'Identificación de Datos Atípicos en Descenso del ST (oldpeak)')"
      ]
     },
     "execution_count": 11,
     "metadata": {},
     "output_type": "execute_result"
    },
    {
     "data": {
      "image/png": "[encoded data removed]",
      "text/plain": [
       "<Figure size 640x480 with 1 Axes>"
      ]
     },
     "metadata": {},
     "output_type": "display_data"
    }
   ],
   "source": [
    "#Identificación de Datos Faltantes y Atípicos\n",
    "# Boxplot para identificar outliers en descenso del ST (oldpeak)\n",
    "sns.boxplot(x=Datos['oldpeak'])\n",
    "plt.title('Identificación de Datos Atípicos en Descenso del ST (oldpeak)')"
   ]
  },
  {
   "cell_type": "code",
   "execution_count": 12,
   "id": "c250707f-3e28-4222-8c16-509f93b12be5",
   "metadata": {},
   "outputs": [
    {
     "data": {
      "image/png": "[encoded data removed]",
      "text/plain": [
       "<Figure size 1200x800 with 5 Axes>"
      ]
     },
     "metadata": {},
     "output_type": "display_data"
    }
   ],
   "source": [
    "# Graficar histogramas para las variables numéricas\n",
    "variables_numericas = ['age', 'trestbps', 'chol', 'thalach', 'oldpeak']\n",
    "plt.figure(figsize=(12, 8))\n",
    "for i, col in enumerate(variables_numericas, 1):\n",
    "    plt.subplot(2, 3, i)\n",
    "    sns.histplot(Datos[col], kde=True)  # Histograma con estimación de densidad\n",
    "    plt.title(f'Distribution of {col}')\n",
    "plt.tight_layout()\n",
    "plt.show()"
   ]
  },
  {
   "cell_type": "code",
   "execution_count": 295,
   "id": "9fc2a0f0-2960-4054-bce1-c873a9e727fb",
   "metadata": {},
   "outputs": [
    {
     "data": {
      "image/png": "[encoded data removed]",
      "text/plain": [
       "<Figure size 1200x800 with 5 Axes>"
      ]
     },
     "metadata": {},
     "output_type": "display_data"
    }
   ],
   "source": [
    "# Graficar la relación entre variables numéricas y la variable objetivo (condition)\n",
    "plt.figure(figsize=(12, 8))\n",
    "for i, col in enumerate(variables_numericas, 1):\n",
    "    plt.subplot(2, 3, i)\n",
    "    sns.boxplot(x='condition', y=col, data=Datos)  # Boxplot para cada variable numérica frente a la condición\n",
    "    plt.title(f'{col} vs Condition')\n",
    "plt.tight_layout()\n",
    "plt.show()"
   ]
  },
  {
   "cell_type": "code",
   "execution_count": 297,
   "id": "95edaae4-76ba-46c6-bd68-23212eb67e1a",
   "metadata": {},
   "outputs": [
    {
     "data": {
      "image/png": "[encoded data removed]",
      "text/plain": [
       "<Figure size 1200x1200 with 8 Axes>"
      ]
     },
     "metadata": {},
     "output_type": "display_data"
    }
   ],
   "source": [
    "# Graficar el conteo de cada variable categórica en relación a la condición\n",
    "variables_categoricas = ['sex', 'cp', 'fbs', 'restecg', 'exang', 'slope', 'ca', 'thal']\n",
    "plt.figure(figsize=(12, 12))\n",
    "for i, col in enumerate(variables_categoricas, 1):\n",
    "    plt.subplot(3, 3, i)\n",
    "    sns.countplot(x=col, hue='condition', data=Datos)  # Conteo por variable categórica\n",
    "    plt.title(f'{col} vs Condition')\n",
    "plt.tight_layout()\n",
    "plt.show()"
   ]
  },
  {
   "cell_type": "code",
   "execution_count": 15,
   "id": "63c80bf3-748b-4763-8c54-94b03e5f4127",
   "metadata": {},
   "outputs": [
    {
     "data": {
      "text/plain": [
       "age          0\n",
       "sex          0\n",
       "cp           0\n",
       "trestbps     0\n",
       "chol         0\n",
       "fbs          0\n",
       "restecg      0\n",
       "thalach      0\n",
       "exang        0\n",
       "oldpeak      0\n",
       "slope        0\n",
       "ca           0\n",
       "thal         0\n",
       "condition    0\n",
       "dtype: int64"
      ]
     },
     "execution_count": 15,
     "metadata": {},
     "output_type": "execute_result"
    }
   ],
   "source": [
    "# Revisar si hay valores faltantes\n",
    "# Se imprime la cantidad de valores nulos en cada columna\n",
    "Datos.isnull().sum()"
   ]
  },
  {
   "cell_type": "code",
   "execution_count": 16,
   "id": "11f9beea-5ed3-4486-a333-0efeff2d32db",
   "metadata": {},
   "outputs": [
    {
     "name": "stdout",
     "output_type": "stream",
     "text": [
      "              age         sex          cp    trestbps        chol         fbs  \\\n",
      "count  297.000000  297.000000  297.000000  297.000000  297.000000  297.000000   \n",
      "mean    54.542088    0.676768    2.158249  131.693603  247.350168    0.144781   \n",
      "std      9.049736    0.468500    0.964859   17.762806   51.997583    0.352474   \n",
      "min     29.000000    0.000000    0.000000   94.000000  126.000000    0.000000   \n",
      "25%     48.000000    0.000000    2.000000  120.000000  211.000000    0.000000   \n",
      "50%     56.000000    1.000000    2.000000  130.000000  243.000000    0.000000   \n",
      "75%     61.000000    1.000000    3.000000  140.000000  276.000000    0.000000   \n",
      "max     77.000000    1.000000    3.000000  200.000000  564.000000    1.000000   \n",
      "\n",
      "          restecg     thalach       exang     oldpeak       slope          ca  \\\n",
      "count  297.000000  297.000000  297.000000  297.000000  297.000000  297.000000   \n",
      "mean     0.996633  149.599327    0.326599    1.055556    0.602694    0.676768   \n",
      "std      0.994914   22.941562    0.469761    1.166123    0.618187    0.938965   \n",
      "min      0.000000   71.000000    0.000000    0.000000    0.000000    0.000000   \n",
      "25%      0.000000  133.000000    0.000000    0.000000    0.000000    0.000000   \n",
      "50%      1.000000  153.000000    0.000000    0.800000    1.000000    0.000000   \n",
      "75%      2.000000  166.000000    1.000000    1.600000    1.000000    1.000000   \n",
      "max      2.000000  202.000000    1.000000    6.200000    2.000000    3.000000   \n",
      "\n",
      "             thal   condition  \n",
      "count  297.000000  297.000000  \n",
      "mean     0.835017    0.461279  \n",
      "std      0.956690    0.499340  \n",
      "min      0.000000    0.000000  \n",
      "25%      0.000000    0.000000  \n",
      "50%      0.000000    0.000000  \n",
      "75%      2.000000    1.000000  \n",
      "max      2.000000    1.000000  \n"
     ]
    }
   ],
   "source": [
    "# Descripción estadística\n",
    "print(Datos.describe())"
   ]
  },
  {
   "cell_type": "markdown",
   "id": "0a00c73f-4898-4a6b-ba73-2d504702a4c4",
   "metadata": {},
   "source": [
    "## 2. Preprocesar los datos limpiándolos, tratando valores faltantes y transformándolos según sea necesario"
   ]
  },
  {
   "cell_type": "code",
   "execution_count": 18,
   "id": "130fad63-f2e5-4fe2-926c-5532af355ee6",
   "metadata": {},
   "outputs": [
    {
     "name": "stdout",
     "output_type": "stream",
     "text": [
      "Cantidad de Registros con cero en 'age' (Edad):  0\n",
      "Cantidad de Registros con cero en 'trestbps' (Presión Arterial en Reposo):  0\n",
      "Cantidad de Registros con cero en 'chol' (Colesterol):  0\n",
      "Cantidad de Registros con cero en 'thalach' (Frecuencia Cardíaca Máxima):  0\n",
      "Cantidad de Registros con cero en 'oldpeak' (Depresión del ST):  96\n"
     ]
    }
   ],
   "source": [
    "# Revisión de datos faltantes\n",
    "print(\"Cantidad de Registros con cero en 'age' (Edad): \", Datos['age'].isin([0]).sum())\n",
    "print(\"Cantidad de Registros con cero en 'trestbps' (Presión Arterial en Reposo): \", Datos['trestbps'].isin([0]).sum())\n",
    "print(\"Cantidad de Registros con cero en 'chol' (Colesterol): \", Datos['chol'].isin([0]).sum())\n",
    "print(\"Cantidad de Registros con cero en 'thalach' (Frecuencia Cardíaca Máxima): \", Datos['thalach'].isin([0]).sum())\n",
    "print(\"Cantidad de Registros con cero en 'oldpeak' (Depresión del ST): \", Datos['oldpeak'].isin([0]).sum())"
   ]
  },
  {
   "cell_type": "code",
   "execution_count": 19,
   "id": "ac9345e6-1f3f-4823-b200-4acb5a298072",
   "metadata": {},
   "outputs": [],
   "source": [
    "# Reemplazar los ceros con el valor medio (promedio) de cada columna\n",
    "Datos['age'] = Datos['age'].replace(0, Datos['age'].mean())\n",
    "Datos['chol'] = Datos['chol'].replace(0, Datos['chol'].mean())\n",
    "Datos['thalach'] = Datos['thalach'].replace(0, Datos['thalach'].mean())"
   ]
  },
  {
   "cell_type": "code",
   "execution_count": 20,
   "id": "89844139-f714-4aa3-b037-fb780fb70cce",
   "metadata": {},
   "outputs": [
    {
     "name": "stdout",
     "output_type": "stream",
     "text": [
      "Cantidad de Registros con cero en 'age':  0\n",
      "Cantidad de Registros con cero en 'chol':  0\n",
      "Cantidad de Registros con cero en 'thalach':  0\n"
     ]
    }
   ],
   "source": [
    "# Revisión nuevamente de datos faltantes\n",
    "print(\"Cantidad de Registros con cero en 'age': \", Datos['age'].isin([0]).sum())\n",
    "print(\"Cantidad de Registros con cero en 'chol': \", Datos['chol'].isin([0]).sum())\n",
    "print(\"Cantidad de Registros con cero en 'thalach': \", Datos['thalach'].isin([0]).sum())"
   ]
  },
  {
   "cell_type": "code",
   "execution_count": 26,
   "id": "d2f87e8d-cc44-4dee-8ea7-e7dfc234db17",
   "metadata": {},
   "outputs": [
    {
     "name": "stdout",
     "output_type": "stream",
     "text": [
      "El total de datos atípicos en 'age' es 0\n"
     ]
    }
   ],
   "source": [
    "# Conteo de Datos Atípicos (Edad)\n",
    "limite_minimo_age = 0\n",
    "limite_maximo_age = 120\n",
    "Total_Atipicos_age = ((Datos['age'] < limite_minimo_age) | (Datos['age'] > limite_maximo_age)).sum()\n",
    "print(\"El total de datos atípicos en 'age' es {}\".format(Total_Atipicos_age))"
   ]
  },
  {
   "cell_type": "code",
   "execution_count": 27,
   "id": "74ccb686-f97f-479c-b8d7-61f0a7c4f5d7",
   "metadata": {},
   "outputs": [
    {
     "name": "stdout",
     "output_type": "stream",
     "text": [
      "El total de datos atípicos en 'trestbps' es 9\n"
     ]
    }
   ],
   "source": [
    "# Conteo de Datos Atípicos (trestbps)\n",
    "limite_minimo_trestbps = 94\n",
    "limite_maximo_trestbps = 170\n",
    "Total_Atipicos_trestbps = ((Datos['trestbps'] < limite_minimo_trestbps) | (Datos['trestbps'] > limite_maximo_trestbps)).sum()\n",
    "print(\"El total de datos atípicos en 'trestbps' es {}\".format(Total_Atipicos_trestbps))"
   ]
  },
  {
   "cell_type": "code",
   "execution_count": 28,
   "id": "f89612b5-d4ad-410f-adb6-beb589e7d201",
   "metadata": {},
   "outputs": [
    {
     "name": "stdout",
     "output_type": "stream",
     "text": [
      "El total de datos atípicos en 'chol' es 8\n"
     ]
    }
   ],
   "source": [
    "#Conteo de Datos Atípicos (Cholesterol)\n",
    "limite_minimo_chol = 126\n",
    "limite_maximo_chol = 350\n",
    "Total_Atipicos_chol = ((Datos['chol'] < limite_minimo_chol) | (Datos['chol'] > limite_maximo_chol)).sum()\n",
    "print(\"El total de datos atípicos en 'chol' es {}\".format(Total_Atipicos_chol))"
   ]
  },
  {
   "cell_type": "code",
   "execution_count": 29,
   "id": "f92bba8e-23d0-4dca-b677-2f7398de836e",
   "metadata": {},
   "outputs": [
    {
     "name": "stdout",
     "output_type": "stream",
     "text": [
      "El total de datos atípicos en 'thalach' es 2\n"
     ]
    }
   ],
   "source": [
    "# Conteo de Datos Atípicos (thalach)\n",
    "limite_minimo_thalach = 90\n",
    "limite_maximo_thalach = 202\n",
    "Total_Atipicos_thalach = ((Datos['thalach'] < limite_minimo_thalach) | (Datos['thalach'] > limite_maximo_thalach)).sum()\n",
    "print(\"El total de datos atípicos en 'thalach' es {}\".format(Total_Atipicos_thalach))"
   ]
  },
  {
   "cell_type": "code",
   "execution_count": 30,
   "id": "62ae2624-1558-4fb2-b114-8007fb1d34de",
   "metadata": {},
   "outputs": [
    {
     "name": "stdout",
     "output_type": "stream",
     "text": [
      "El total de datos atípicos en 'oldpeak' es 5\n"
     ]
    }
   ],
   "source": [
    "#Conteo de Datos Atípicos (Oldpeak)\n",
    "limite_minimo_oldpeak = 0\n",
    "limite_maximo_oldpeak = 4\n",
    "Total_Atipicos_oldpeak = ((Datos['oldpeak'] < limite_minimo_oldpeak) | (Datos['oldpeak'] > limite_maximo_oldpeak)).sum()\n",
    "print(\"El total de datos atípicos en 'oldpeak' es {}\".format(Total_Atipicos_oldpeak))"
   ]
  },
  {
   "cell_type": "code",
   "execution_count": 31,
   "id": "83923387-d613-475d-8461-c7f18729320e",
   "metadata": {},
   "outputs": [],
   "source": [
    "# Filtrar Datos Atípicos (Age)\n",
    "Datos = Datos[(Datos['age'] <= limite_maximo_age) & (Datos['age'] >= limite_minimo_age)]"
   ]
  },
  {
   "cell_type": "code",
   "execution_count": 32,
   "id": "40e388cd-7b6f-490e-9faa-d3104d0e9896",
   "metadata": {},
   "outputs": [],
   "source": [
    "# Filtrar Datos Atípicos (trestbps)\n",
    "Datos = Datos[(Datos['trestbps'] <= limite_maximo_trestbps) & (Datos['trestbps'] >= limite_minimo_trestbps)]"
   ]
  },
  {
   "cell_type": "code",
   "execution_count": 33,
   "id": "d85f7d44-773f-4b04-b9a7-847356724bb5",
   "metadata": {},
   "outputs": [],
   "source": [
    "# Filtra Datos Atípicos (Cholesterol)\n",
    "Datos = Datos[(Datos['chol'] >= limite_minimo_chol) & (Datos['chol'] <= limite_maximo_chol)]"
   ]
  },
  {
   "cell_type": "code",
   "execution_count": 34,
   "id": "d55a6dcc-595a-4175-a39b-ffcd0e53190a",
   "metadata": {},
   "outputs": [],
   "source": [
    "# Filtrar Datos Atípicos (thalach)\n",
    "Datos = Datos[(Datos['thalach'] <= limite_maximo_thalach) & (Datos['thalach'] >= limite_minimo_thalach)]"
   ]
  },
  {
   "cell_type": "code",
   "execution_count": 35,
   "id": "d72e186d-35c2-4192-9236-b8c33376fb47",
   "metadata": {},
   "outputs": [],
   "source": [
    "# Filtrar Datos Atípicos (oldpeak)\n",
    "Datos = Datos[(Datos['oldpeak'] <= limite_maximo_oldpeak) & (Datos['oldpeak'] >= limite_minimo_oldpeak)]"
   ]
  },
  {
   "cell_type": "code",
   "execution_count": 36,
   "id": "0566ca74-a0df-47d4-8b7a-fd5752d5d33b",
   "metadata": {},
   "outputs": [
    {
     "name": "stdout",
     "output_type": "stream",
     "text": [
      "El total de datos atípicos en 'age' después de filtrar es 0\n"
     ]
    }
   ],
   "source": [
    "# Validar si se removieron los datos atípicos (Age)\n",
    "Total_Atipicos_age_filtrados = ((Datos['age'] < limite_minimo_age) | (Datos['age'] > limite_maximo_age)).sum()\n",
    "print(\"El total de datos atípicos en 'age' después de filtrar es {}\".format(Total_Atipicos_age_filtrados))"
   ]
  },
  {
   "cell_type": "code",
   "execution_count": 37,
   "id": "0b9fc696-2cbf-4079-b389-5f83b96e0126",
   "metadata": {},
   "outputs": [
    {
     "name": "stdout",
     "output_type": "stream",
     "text": [
      "El total de datos atípicos en 'trestbps' después de filtrar es 0\n"
     ]
    }
   ],
   "source": [
    "# Validar si se removieron los datos atípicos (trestbps)\n",
    "Total_Atipicos_trestbps_filtrados = ((Datos['trestbps'] < limite_minimo_trestbps) | (Datos['trestbps'] > limite_maximo_trestbps)).sum()\n",
    "print(\"El total de datos atípicos en 'trestbps' después de filtrar es {}\".format(Total_Atipicos_trestbps_filtrados))"
   ]
  },
  {
   "cell_type": "code",
   "execution_count": 38,
   "id": "213fcd66-aae1-410a-88d4-8b2148c93a1f",
   "metadata": {},
   "outputs": [
    {
     "name": "stdout",
     "output_type": "stream",
     "text": [
      "El total de datos atípicos en 'chol' después de filtrar es 0\n"
     ]
    }
   ],
   "source": [
    "# Validar si se removieron los datos atípicos (chol)\n",
    "Total_Atipicos_chol_filtrados = ((Datos['chol'] < limite_minimo_chol) | (Datos['chol'] > limite_maximo_chol)).sum()\n",
    "print(\"El total de datos atípicos en 'chol' después de filtrar es {}\".format(Total_Atipicos_chol_filtrados))"
   ]
  },
  {
   "cell_type": "code",
   "execution_count": 39,
   "id": "fdcb5584-540c-4de7-b31c-6c5ebf19326a",
   "metadata": {},
   "outputs": [
    {
     "name": "stdout",
     "output_type": "stream",
     "text": [
      "El total de datos atípicos en 'thalach' después de filtrar es 0\n"
     ]
    }
   ],
   "source": [
    "# Validar si se removieron los datos atípicos (thalach)\n",
    "Total_Atipicos_thalach_filtrados = ((Datos['thalach'] < limite_minimo_thalach) | (Datos['thalach'] > limite_maximo_thalach)).sum()\n",
    "print(\"El total de datos atípicos en 'thalach' después de filtrar es {}\".format(Total_Atipicos_thalach_filtrados))"
   ]
  },
  {
   "cell_type": "code",
   "execution_count": 40,
   "id": "3d1fc1be-0a53-43e0-a812-750841e699c4",
   "metadata": {},
   "outputs": [
    {
     "name": "stdout",
     "output_type": "stream",
     "text": [
      "El total de datos atípicos en 'oldpeak' después de filtrar es 0\n"
     ]
    }
   ],
   "source": [
    "# Validar si se removieron los datos atípicos (oldpeak)\n",
    "Total_Atipicos_oldpeak_filtrados = ((Datos['oldpeak'] < limite_minimo_oldpeak) | (Datos['oldpeak'] > limite_maximo_oldpeak)).sum()\n",
    "print(\"El total de datos atípicos en 'oldpeak' después de filtrar es {}\".format(Total_Atipicos_oldpeak_filtrados))"
   ]
  },
  {
   "cell_type": "code",
   "execution_count": 41,
   "id": "fa31abb7-cf6a-4a75-aaab-b63b8e7fcc51",
   "metadata": {},
   "outputs": [
    {
     "name": "stdout",
     "output_type": "stream",
     "text": [
      "<class 'pandas.core.frame.DataFrame'>\n",
      "Index: 274 entries, 0 to 296\n",
      "Data columns (total 14 columns):\n",
      " #   Column     Non-Null Count  Dtype  \n",
      "---  ------     --------------  -----  \n",
      " 0   age        274 non-null    int64  \n",
      " 1   sex        274 non-null    int64  \n",
      " 2   cp         274 non-null    int64  \n",
      " 3   trestbps   274 non-null    int64  \n",
      " 4   chol       274 non-null    int64  \n",
      " 5   fbs        274 non-null    int64  \n",
      " 6   restecg    274 non-null    int64  \n",
      " 7   thalach    274 non-null    int64  \n",
      " 8   exang      274 non-null    int64  \n",
      " 9   oldpeak    274 non-null    float64\n",
      " 10  slope      274 non-null    int64  \n",
      " 11  ca         274 non-null    int64  \n",
      " 12  thal       274 non-null    int64  \n",
      " 13  condition  274 non-null    int64  \n",
      "dtypes: float64(1), int64(13)\n",
      "memory usage: 32.1 KB\n"
     ]
    }
   ],
   "source": [
    "#Revisión del tipo de datos y datos faltantes\n",
    "\n",
    "Datos.info()"
   ]
  },
  {
   "cell_type": "markdown",
   "id": "0a2881dc-c790-4bf0-a724-d114f7408d5e",
   "metadata": {},
   "source": [
    "## 3. Seleccionar las características más relevantes para entrenar el modelo utilizando selección de características"
   ]
  },
  {
   "cell_type": "markdown",
   "id": "e77957ac-8b37-4484-af31-c513e3366cd0",
   "metadata": {},
   "source": [
    "**Características de interés:**\n",
    "\n",
    "**Condition:** indica si la persona tiene enfermedad cardíaca o no (0 = no tiene enfermedad cardíaca, 1 = tiene enfermedad cardíaca)"
   ]
  },
  {
   "cell_type": "markdown",
   "id": "5fe01a82-8779-4ceb-a136-752df931e7c4",
   "metadata": {},
   "source": [
    "**Objetivo:** Predecir si una persona puede presentar enfermedad cardíaca"
   ]
  },
  {
   "cell_type": "code",
   "execution_count": 120,
   "id": "501fcf39-6c6b-4e50-bfb6-7caf3b29157b",
   "metadata": {},
   "outputs": [
    {
     "data": {
      "text/plain": [
       "condition\n",
       "0    152\n",
       "1    122\n",
       "Name: count, dtype: int64"
      ]
     },
     "execution_count": 120,
     "metadata": {},
     "output_type": "execute_result"
    }
   ],
   "source": [
    "# Total de personas con y sin enfermedad cardíaca\n",
    "Datos['condition'].value_counts()"
   ]
  },
  {
   "cell_type": "code",
   "execution_count": 122,
   "id": "a8dded67-386f-49c7-a80c-9472b43f14d0",
   "metadata": {},
   "outputs": [
    {
     "data": {
      "text/html": [
       "<div>\n",
       "<style scoped>\n",
       "    .dataframe tbody tr th:only-of-type {\n",
       "        vertical-align: middle;\n",
       "    }\n",
       "\n",
       "    .dataframe tbody tr th {\n",
       "        vertical-align: top;\n",
       "    }\n",
       "\n",
       "    .dataframe thead th {\n",
       "        text-align: right;\n",
       "    }\n",
       "</style>\n",
       "<table border=\"1\" class=\"dataframe\">\n",
       "  <thead>\n",
       "    <tr style=\"text-align: right;\">\n",
       "      <th></th>\n",
       "      <th>condition</th>\n",
       "    </tr>\n",
       "  </thead>\n",
       "  <tbody>\n",
       "    <tr>\n",
       "      <th>0</th>\n",
       "      <td>0</td>\n",
       "    </tr>\n",
       "    <tr>\n",
       "      <th>1</th>\n",
       "      <td>0</td>\n",
       "    </tr>\n",
       "    <tr>\n",
       "      <th>2</th>\n",
       "      <td>0</td>\n",
       "    </tr>\n",
       "    <tr>\n",
       "      <th>3</th>\n",
       "      <td>1</td>\n",
       "    </tr>\n",
       "    <tr>\n",
       "      <th>4</th>\n",
       "      <td>0</td>\n",
       "    </tr>\n",
       "    <tr>\n",
       "      <th>5</th>\n",
       "      <td>0</td>\n",
       "    </tr>\n",
       "    <tr>\n",
       "      <th>6</th>\n",
       "      <td>0</td>\n",
       "    </tr>\n",
       "    <tr>\n",
       "      <th>7</th>\n",
       "      <td>1</td>\n",
       "    </tr>\n",
       "    <tr>\n",
       "      <th>8</th>\n",
       "      <td>0</td>\n",
       "    </tr>\n",
       "    <tr>\n",
       "      <th>10</th>\n",
       "      <td>1</td>\n",
       "    </tr>\n",
       "    <tr>\n",
       "      <th>11</th>\n",
       "      <td>1</td>\n",
       "    </tr>\n",
       "    <tr>\n",
       "      <th>12</th>\n",
       "      <td>1</td>\n",
       "    </tr>\n",
       "    <tr>\n",
       "      <th>13</th>\n",
       "      <td>0</td>\n",
       "    </tr>\n",
       "    <tr>\n",
       "      <th>14</th>\n",
       "      <td>0</td>\n",
       "    </tr>\n",
       "    <tr>\n",
       "      <th>15</th>\n",
       "      <td>0</td>\n",
       "    </tr>\n",
       "    <tr>\n",
       "      <th>16</th>\n",
       "      <td>0</td>\n",
       "    </tr>\n",
       "    <tr>\n",
       "      <th>17</th>\n",
       "      <td>0</td>\n",
       "    </tr>\n",
       "    <tr>\n",
       "      <th>18</th>\n",
       "      <td>1</td>\n",
       "    </tr>\n",
       "    <tr>\n",
       "      <th>19</th>\n",
       "      <td>0</td>\n",
       "    </tr>\n",
       "    <tr>\n",
       "      <th>20</th>\n",
       "      <td>0</td>\n",
       "    </tr>\n",
       "    <tr>\n",
       "      <th>21</th>\n",
       "      <td>1</td>\n",
       "    </tr>\n",
       "    <tr>\n",
       "      <th>22</th>\n",
       "      <td>0</td>\n",
       "    </tr>\n",
       "    <tr>\n",
       "      <th>23</th>\n",
       "      <td>0</td>\n",
       "    </tr>\n",
       "    <tr>\n",
       "      <th>24</th>\n",
       "      <td>0</td>\n",
       "    </tr>\n",
       "    <tr>\n",
       "      <th>25</th>\n",
       "      <td>0</td>\n",
       "    </tr>\n",
       "    <tr>\n",
       "      <th>26</th>\n",
       "      <td>1</td>\n",
       "    </tr>\n",
       "    <tr>\n",
       "      <th>27</th>\n",
       "      <td>0</td>\n",
       "    </tr>\n",
       "    <tr>\n",
       "      <th>28</th>\n",
       "      <td>1</td>\n",
       "    </tr>\n",
       "    <tr>\n",
       "      <th>29</th>\n",
       "      <td>0</td>\n",
       "    </tr>\n",
       "    <tr>\n",
       "      <th>30</th>\n",
       "      <td>0</td>\n",
       "    </tr>\n",
       "    <tr>\n",
       "      <th>31</th>\n",
       "      <td>1</td>\n",
       "    </tr>\n",
       "    <tr>\n",
       "      <th>32</th>\n",
       "      <td>1</td>\n",
       "    </tr>\n",
       "    <tr>\n",
       "      <th>33</th>\n",
       "      <td>1</td>\n",
       "    </tr>\n",
       "    <tr>\n",
       "      <th>34</th>\n",
       "      <td>1</td>\n",
       "    </tr>\n",
       "    <tr>\n",
       "      <th>35</th>\n",
       "      <td>1</td>\n",
       "    </tr>\n",
       "    <tr>\n",
       "      <th>36</th>\n",
       "      <td>0</td>\n",
       "    </tr>\n",
       "    <tr>\n",
       "      <th>37</th>\n",
       "      <td>0</td>\n",
       "    </tr>\n",
       "    <tr>\n",
       "      <th>38</th>\n",
       "      <td>0</td>\n",
       "    </tr>\n",
       "    <tr>\n",
       "      <th>39</th>\n",
       "      <td>0</td>\n",
       "    </tr>\n",
       "    <tr>\n",
       "      <th>40</th>\n",
       "      <td>0</td>\n",
       "    </tr>\n",
       "  </tbody>\n",
       "</table>\n",
       "</div>"
      ],
      "text/plain": [
       "    condition\n",
       "0           0\n",
       "1           0\n",
       "2           0\n",
       "3           1\n",
       "4           0\n",
       "5           0\n",
       "6           0\n",
       "7           1\n",
       "8           0\n",
       "10          1\n",
       "11          1\n",
       "12          1\n",
       "13          0\n",
       "14          0\n",
       "15          0\n",
       "16          0\n",
       "17          0\n",
       "18          1\n",
       "19          0\n",
       "20          0\n",
       "21          1\n",
       "22          0\n",
       "23          0\n",
       "24          0\n",
       "25          0\n",
       "26          1\n",
       "27          0\n",
       "28          1\n",
       "29          0\n",
       "30          0\n",
       "31          1\n",
       "32          1\n",
       "33          1\n",
       "34          1\n",
       "35          1\n",
       "36          0\n",
       "37          0\n",
       "38          0\n",
       "39          0\n",
       "40          0"
      ]
     },
     "execution_count": 122,
     "metadata": {},
     "output_type": "execute_result"
    }
   ],
   "source": [
    "Datos[['condition']].head(40)"
   ]
  },
  {
   "cell_type": "markdown",
   "id": "527a7459-51ee-4746-9740-82e5d1da6559",
   "metadata": {},
   "source": [
    "## 4. Dividir el dataset en Train y Test para evaluar correctamente el modelo"
   ]
  },
  {
   "cell_type": "code",
   "execution_count": 135,
   "id": "bc2f56c2-4605-49d2-b8fd-91080dad211a",
   "metadata": {},
   "outputs": [],
   "source": [
    "# Porcentaje de datos para entrenamiento (train) = 75% , y para prueba (test) = 25%\n",
    "\n",
    "# Se crean variables X y Y para almacenar la información del entrenamiento\n",
    "\n",
    "X = Datos.drop('condition', axis=1)  # Se cargan los datos de train sin la columna 'condition'\n",
    "Y = Datos['condition']  # Se cargan los datos de train con la columna 'condition'\n",
    "\n",
    "# División en conjunto de entrenamiento y prueba\n",
    "X_train, X_test, Y_train, Y_test = train_test_split(X, Y, test_size=0.25, stratify=Y, random_state=0)"
   ]
  },
  {
   "cell_type": "code",
   "execution_count": 137,
   "id": "fd27e4ce-3089-4a9a-9894-49d689642c51",
   "metadata": {},
   "outputs": [
    {
     "name": "stdout",
     "output_type": "stream",
     "text": [
      "     age  sex  cp  trestbps  chol  fbs  restecg  thalach  exang   oldpeak  \\\n",
      "278   45    1   3       115   260    0        2      185      0  0.963869   \n",
      "270   47    1   3       110   275    0        2      118      1  1.000000   \n",
      "88    64    0   2       140   313    0        0      133      0  0.200000   \n",
      "218   58    0   3       130   197    0        0      131      0  0.600000   \n",
      "202   60    1   3       140   293    0        2      170      0  1.200000   \n",
      "..   ...  ...  ..       ...   ...  ...      ...      ...    ...       ...   \n",
      "216   58    1   3       128   259    0        2      130      1  3.000000   \n",
      "176   64    0   3       130   303    0        0      122      0  2.000000   \n",
      "156   71    0   3       112   149    0        0      125      0  1.600000   \n",
      "51    49    1   1       130   266    0        0      171      0  0.600000   \n",
      "124   51    0   2       120   295    0        2      157      0  0.600000   \n",
      "\n",
      "     slope  ca  thal  \n",
      "278      0   0     0  \n",
      "270      1   1     0  \n",
      "88       0   0     2  \n",
      "218      1   0     0  \n",
      "202      1   2     2  \n",
      "..     ...  ..   ...  \n",
      "216      1   2     2  \n",
      "176      1   2     0  \n",
      "156      1   0     0  \n",
      "51       0   0     0  \n",
      "124      0   0     0  \n",
      "\n",
      "[205 rows x 13 columns]\n"
     ]
    }
   ],
   "source": [
    "print (X_train)"
   ]
  },
  {
   "cell_type": "code",
   "execution_count": 139,
   "id": "3af5e8dc-5ef6-4f9e-ac2a-fa14f1c80394",
   "metadata": {},
   "outputs": [
    {
     "name": "stdout",
     "output_type": "stream",
     "text": [
      "278    0\n",
      "270    1\n",
      "88     0\n",
      "218    0\n",
      "202    1\n",
      "      ..\n",
      "216    1\n",
      "176    0\n",
      "156    0\n",
      "51     0\n",
      "124    0\n",
      "Name: condition, Length: 205, dtype: int64\n"
     ]
    }
   ],
   "source": [
    "print (Y_train)"
   ]
  },
  {
   "cell_type": "markdown",
   "id": "af90c317-3c01-4b52-9533-d9d4b7c0dcba",
   "metadata": {},
   "source": [
    "## 5. Entrenar el modelo configurando los diferentes hiperparámetros"
   ]
  },
  {
   "cell_type": "code",
   "execution_count": 142,
   "id": "04c25c71-a958-4303-90ab-ff2e10bda6b2",
   "metadata": {},
   "outputs": [],
   "source": [
    "# Construir el modelo de regresión logística \n",
    "\n",
    "modelo_regresion = LogisticRegression(solver = \"liblinear\") # liblinear es una libreria para resolver problemas lineales de clasificación y regresión\n",
    "modelo_regresion.fit (X_train , Y_train)   \n",
    "\n",
    "# Crea el modelo de prediccion\n",
    "Prediccion = modelo_regresion.predict(X_test) # la función predict predice los valores a partir del conjunto de datos de validación"
   ]
  },
  {
   "cell_type": "code",
   "execution_count": 144,
   "id": "a71f3f13-e0bb-4714-9775-3212824b1a06",
   "metadata": {},
   "outputs": [
    {
     "name": "stdout",
     "output_type": "stream",
     "text": [
      "138    0\n",
      "274    1\n",
      "75     1\n",
      "12     1\n",
      "252    1\n",
      "      ..\n",
      "208    1\n",
      "36     0\n",
      "78     0\n",
      "273    1\n",
      "103    1\n",
      "Name: condition, Length: 69, dtype: int64\n"
     ]
    }
   ],
   "source": [
    "print (Y_test)"
   ]
  },
  {
   "cell_type": "code",
   "execution_count": 146,
   "id": "f81fc634-d74b-438d-bb0f-e2782316f231",
   "metadata": {},
   "outputs": [
    {
     "name": "stdout",
     "output_type": "stream",
     "text": [
      "[0 1 1 0 1 1 1 0 0 0 0 0 1 1 0 0 0 0 1 0 1 0 0 0 0 0 0 0 0 1 0 1 0 1 1 1 0\n",
      " 0 1 0 0 1 0 0 1 0 1 1 0 1 1 0 0 0 0 0 0 1 0 0 1 1 1 1 1 0 1 1 1]\n"
     ]
    }
   ],
   "source": [
    "print (Prediccion)"
   ]
  },
  {
   "cell_type": "markdown",
   "id": "f9cd5d68-cd15-4dd1-a615-ef23733bcea6",
   "metadata": {},
   "source": [
    "## 6. Evaluar el desempeño del modelo en el conjunto de Test con métricas como precisión, recall, F1-score, etc"
   ]
  },
  {
   "cell_type": "code",
   "execution_count": 149,
   "id": "e17ec40b-83c1-4679-bad4-9563d5553da7",
   "metadata": {},
   "outputs": [
    {
     "name": "stdout",
     "output_type": "stream",
     "text": [
      "              precision    recall  f1-score   support\n",
      "\n",
      "           0       0.87      0.89      0.88        38\n",
      "           1       0.87      0.84      0.85        31\n",
      "\n",
      "    accuracy                           0.87        69\n",
      "   macro avg       0.87      0.87      0.87        69\n",
      "weighted avg       0.87      0.87      0.87        69\n",
      "\n"
     ]
    }
   ],
   "source": [
    "# Desempeño del modelo de regresión\n",
    "\n",
    "print(classification_report(Y_test,Prediccion))"
   ]
  },
  {
   "cell_type": "markdown",
   "id": "6e382c4a-44c7-40ac-a48f-933da7680324",
   "metadata": {},
   "source": [
    "## 7. Realizar las diferentes gráficas que permitan visualizar los resultados del modelo"
   ]
  },
  {
   "cell_type": "code",
   "execution_count": 154,
   "id": "cf35cb37-772d-40be-a989-b17e7912e82c",
   "metadata": {},
   "outputs": [
    {
     "data": {
      "text/plain": [
       "<sklearn.metrics._plot.confusion_matrix.ConfusionMatrixDisplay at 0x22b9279fcb0>"
      ]
     },
     "execution_count": 154,
     "metadata": {},
     "output_type": "execute_result"
    },
    {
     "data": {
      "image/png": "[encoded data removed]",
      "text/plain": [
       "<Figure size 640x480 with 2 Axes>"
      ]
     },
     "metadata": {},
     "output_type": "display_data"
    }
   ],
   "source": [
    "#Matrix de Confusión del modelo\n",
    "\n",
    "cm=confusion_matrix(Y_test,Prediccion)\n",
    "disp=metrics.ConfusionMatrixDisplay(confusion_matrix=cm)\n",
    "disp.plot()"
   ]
  },
  {
   "cell_type": "code",
   "execution_count": 156,
   "id": "bf50b304-5c32-4fac-8009-5da8e5df1b48",
   "metadata": {},
   "outputs": [
    {
     "data": {
      "image/png": "[encoded data removed]",
      "text/plain": [
       "<Figure size 640x480 with 1 Axes>"
      ]
     },
     "metadata": {},
     "output_type": "display_data"
    }
   ],
   "source": [
    "# Curva de precisón del modelo\n",
    "\n",
    "from sklearn.metrics import RocCurveDisplay\n",
    "RocCurveDisplay.from_predictions(Y_test, Prediccion)\n",
    "plt.show()"
   ]
  },
  {
   "cell_type": "markdown",
   "id": "ae984041-6054-495b-a489-8f93bc65ef0d",
   "metadata": {},
   "source": [
    "## 8. Interpretar, analizar y documentar los resultados obtenidos"
   ]
  },
  {
   "cell_type": "markdown",
   "id": "02493e14-edbf-48ee-a866-fe2443e633cf",
   "metadata": {},
   "source": [
    "### Interpretación de la Matriz de Confusión"
   ]
  },
  {
   "cell_type": "markdown",
   "id": "688a3f31-ade6-4d96-b962-f8db79713fb7",
   "metadata": {},
   "source": [
    "*La matriz de confusión obtenida del modelo de regresión logística muestra lo siguiente:*"
   ]
  },
  {
   "cell_type": "markdown",
   "id": "8e66c34f-3bc4-4142-9e77-796f8a0cea4c",
   "metadata": {},
   "source": [
    " **- Verdaderos negativos:** 34 personas sin enfermedad cardíaca fueron clasificadas correctamente como no enfermas.*"
   ]
  },
  {
   "cell_type": "markdown",
   "id": "be527573-9056-4f67-a806-2490b183daa3",
   "metadata": {},
   "source": [
    "**- Falsos positivos:** 4 personas sin enfermedad cardíaca fueron clasificadas incorrectamente como enfermas.*"
   ]
  },
  {
   "cell_type": "markdown",
   "id": "add38c79-f819-4ad0-8d43-6d863937acac",
   "metadata": {},
   "source": [
    " **- Falsos negativos:** 5 personas con enfermedad cardíaca fueron clasificadas incorrectamente como sanas.*"
   ]
  },
  {
   "cell_type": "markdown",
   "id": "843e1747-fb03-45bc-a41f-456eb311e9a4",
   "metadata": {},
   "source": [
    "**- Verdaderos positivos:** 26 personas con enfermedad cardíaca fueron clasificadas correctamente como enfermas.*"
   ]
  },
  {
   "cell_type": "markdown",
   "id": "b0890498-1317-4974-ae34-47545871c8bb",
   "metadata": {},
   "source": [
    "**Métricas derivadas:**"
   ]
  },
  {
   "cell_type": "markdown",
   "id": "d751cfe7-c860-4b16-bfef-7d5119ca8ea0",
   "metadata": {},
   "source": [
    "**- Precisión para la clase 0** (sin enfermedad): (34)/(34+5) = 0.87 (87%)*"
   ]
  },
  {
   "cell_type": "markdown",
   "id": "e171b734-6621-4d2f-8b0b-91cc54cd317a",
   "metadata": {},
   "source": [
    "**- Precisión para la clase 1** (con enfermedad): (26)/(26+4) = 0.87 (87%)*"
   ]
  },
  {
   "cell_type": "markdown",
   "id": "60b43dc4-31d4-4a00-ae67-65e77545b152",
   "metadata": {},
   "source": [
    "*Esto indica que el modelo tiene una buena capacidad para predecir correctamente tanto la clase positiva (enfermedad cardíaca) como la clase negativa (sin enfermedad), con una precisión del 87% para ambas clases.*"
   ]
  },
  {
   "cell_type": "markdown",
   "id": "da06c32a-a39b-4cbc-925b-6b602697f421",
   "metadata": {},
   "source": [
    "**Interpretación general:**"
   ]
  },
  {
   "cell_type": "markdown",
   "id": "57ddc333-8a24-4513-afb3-4b23daee6507",
   "metadata": {},
   "source": [
    "*El modelo muestra un desempeño favorable en cuanto a precisión y manejo de las dos clases (enfermedad y no enfermedad). A pesar de la presencia de algunos errores, como falsos positivos y falsos negativos, el equilibrio general entre precisión y recall es positivo.*\n",
    "\n",
    "*En cuanto a los falsos positivos (4 casos), esto significa que algunas personas fueron clasificadas como enfermas cuando no lo estaban, lo que podría generar inquietudes innecesarias en un entorno clínico. Por otro lado, los falsos negativos (5 casos) son de particular interés, ya que indican que hay personas con enfermedad cardíaca que no fueron identificadas, lo que es fundamental a considerar en el análisis del modelo.*"
   ]
  },
  {
   "cell_type": "markdown",
   "id": "2857455f-73e9-4f82-99d2-366ae3ac3b45",
   "metadata": {},
   "source": [
    "### Curva ROC (Receiver Operating Characteristic)"
   ]
  },
  {
   "cell_type": "markdown",
   "id": "9ff2c98f-e5fa-47b5-b86a-0b39a95e7529",
   "metadata": {},
   "source": [
    "*La curva ROC del modelo tiene un AUC de 0.87, lo que indica un buen rendimiento del modelo para separar las clases (enfermedad y no enfermedad).*"
   ]
  },
  {
   "cell_type": "markdown",
   "id": "0ad144bb-0ea4-45d6-a50e-8f5dbd118385",
   "metadata": {},
   "source": [
    "**Análisis del AUC (Área bajo la curva):**"
   ]
  },
  {
   "cell_type": "markdown",
   "id": "505435b2-141f-471c-ab49-c3aabf6cda84",
   "metadata": {},
   "source": [
    "*- Un AUC de 0.87 implica que existe un 87% de probabilidad de que el modelo clasifique correctamente a una persona enferma frente a una persona sana.*"
   ]
  },
  {
   "cell_type": "markdown",
   "id": "3a4994d7-c8ac-43ab-8fd8-154957ac6b16",
   "metadata": {},
   "source": [
    "*- La curva ROC muestra que el modelo tiene un alto TPR (True Positive Rate) cuando el FPR (False Positive Rate) es bajo, lo cual es una buena señal de la capacidad predictiva del modelo.*"
   ]
  },
  {
   "cell_type": "markdown",
   "id": "861eda79-15db-4c86-a585-849dab6d8216",
   "metadata": {},
   "source": [
    "*- AUC cercano a 1 indica que el modelo tiene una excelente habilidad de discriminación entre las clases, mientras que valores cercanos a 0.5 representarían un modelo sin capacidad predictiva.*"
   ]
  },
  {
   "cell_type": "markdown",
   "id": "77d9f3df-40a2-409c-bd48-9e72bb77a61e",
   "metadata": {},
   "source": [
    "## Reporte de Clasificación (Precision, Recall y F1-score)"
   ]
  },
  {
   "cell_type": "markdown",
   "id": "c960f842-0b81-43fc-948f-ced709f51ed2",
   "metadata": {},
   "source": [
    "*A partir del reporte de clasificación, obtenemos las siguientes métricas clave para ambas clases:*"
   ]
  },
  {
   "cell_type": "markdown",
   "id": "4ecc3d53-3c1e-4b12-8e69-9d13f8293789",
   "metadata": {},
   "source": [
    "**Métrica:**"
   ]
  },
  {
   "cell_type": "markdown",
   "id": "c970f292-6825-4309-b348-b8c78ae2afe8",
   "metadata": {},
   "source": [
    "**Clase 0 (Sin enfermedad):**"
   ]
  },
  {
   "cell_type": "markdown",
   "id": "c3f4c3ff-048b-4f7a-84c3-3647718ebd12",
   "metadata": {},
   "source": [
    " *- Precisión: 0.87*"
   ]
  },
  {
   "cell_type": "markdown",
   "id": "f01c0396-d11b-4d5f-8b89-e42f6a4872e3",
   "metadata": {},
   "source": [
    "*- Recall: 0.89*"
   ]
  },
  {
   "cell_type": "markdown",
   "id": "4b19dd05-fb2d-4489-9244-79fa1eae6da9",
   "metadata": {},
   "source": [
    "*- F1-Score: 0.88*"
   ]
  },
  {
   "cell_type": "markdown",
   "id": "ba5a2310-ac24-496d-8aed-95402bad67ca",
   "metadata": {},
   "source": [
    "*- Soporte: 38*"
   ]
  },
  {
   "cell_type": "markdown",
   "id": "98f3b6c4-aef0-41d1-b389-543aab999198",
   "metadata": {},
   "source": [
    "**Clase 1 (Con enfermedad):**"
   ]
  },
  {
   "cell_type": "markdown",
   "id": "5890939f-9296-46dd-a7be-bd809423e211",
   "metadata": {},
   "source": [
    "*- Precisión: 0.87*"
   ]
  },
  {
   "cell_type": "markdown",
   "id": "dafc6b73-5761-4987-9e51-035a8bbe91c7",
   "metadata": {},
   "source": [
    "*- Recall: 0.84*"
   ]
  },
  {
   "cell_type": "markdown",
   "id": "7796e945-7d2f-4d6f-bb53-99bda900f864",
   "metadata": {},
   "source": [
    "*- F1-Score: 0.85*"
   ]
  },
  {
   "cell_type": "markdown",
   "id": "d9e85e96-ae9d-4a7d-9fc9-24bcb3399d27",
   "metadata": {},
   "source": [
    "*- Soporte: 31*"
   ]
  },
  {
   "cell_type": "markdown",
   "id": "504febd8-4a72-4e57-96ae-6f17360a709d",
   "metadata": {},
   "source": [
    "**Precisión:**"
   ]
  },
  {
   "cell_type": "markdown",
   "id": "4fbacf76-bde0-4052-9641-8c647e552c85",
   "metadata": {},
   "source": [
    "*Para la clase 0 (sin enfermedad), es 87%, lo que significa que el 87% de los casos que fueron predichos como sin enfermedad son correctos.*"
   ]
  },
  {
   "cell_type": "markdown",
   "id": "06534ae3-8fa8-4de5-a8c5-15b5b3495772",
   "metadata": {},
   "source": [
    "*Para la clase 1 (con enfermedad), también es 87%, lo que implica que el 87% de los casos predichos como con enfermedad son correctos.*"
   ]
  },
  {
   "cell_type": "markdown",
   "id": "f26f70b4-7a33-46f5-b955-32d5f093fb29",
   "metadata": {},
   "source": [
    "**Recall:**"
   ]
  },
  {
   "cell_type": "markdown",
   "id": "eed36a79-6a13-4a9d-aa22-bea827c4c893",
   "metadata": {},
   "source": [
    "*Para la clase 0, el recall es 89%, lo que significa que el modelo identificó correctamente el 89% de los pacientes sin enfermedad.*"
   ]
  },
  {
   "cell_type": "markdown",
   "id": "36436114-ec4e-4ad4-9831-2a6eee3031f9",
   "metadata": {},
   "source": [
    "*Para la clase 1, el recall es 84%, lo que implica que el modelo identificó correctamente el 84% de los pacientes con enfermedad.*"
   ]
  },
  {
   "cell_type": "markdown",
   "id": "eab250b9-4501-46f3-9642-12c0f0d18994",
   "metadata": {},
   "source": [
    "**F1-Score**:"
   ]
  },
  {
   "cell_type": "markdown",
   "id": "c42f18b0-dcff-4e99-8115-36bb4abbbcc8",
   "metadata": {},
   "source": [
    "*Es una métrica que combina precisión y recall en una sola cifra. En este caso, el F1-score es 0.88 para la clase 0 y 0.85 para la clase 1, lo que indica un buen equilibrio entre ambos.*"
   ]
  },
  {
   "cell_type": "markdown",
   "id": "9577b453-ad4a-4f95-a3a2-d1cd54a30eae",
   "metadata": {},
   "source": [
    "## Conclusiones"
   ]
  },
  {
   "cell_type": "markdown",
   "id": "c8b9ff43-c683-4be6-bfce-bc3223cbd82b",
   "metadata": {},
   "source": [
    "*El modelo de regresión logística mostró un buen desempeño en la predicción de la enfermedad cardíaca, con una precisión y un recall de aproximadamente 87% para ambas clases (personas con y sin enfermedad). Esto significa que el modelo es capaz de clasificar correctamente a la mayoría de los pacientes.*"
   ]
  },
  {
   "cell_type": "markdown",
   "id": "2414083f-2875-48b9-9103-a53aa7ed8739",
   "metadata": {},
   "source": [
    "*A pesar de este buen rendimiento general, se observaron algunos falsos positivos (4 casos) y falsos negativos (5 casos), lo cual es importante tener en cuenta, ya que los falsos negativos podrían implicar que algunas personas con la enfermedad no sean detectadas.*"
   ]
  },
  {
   "cell_type": "markdown",
   "id": "f1413a51-23be-434b-b5fb-01e8d167a361",
   "metadata": {},
   "source": [
    "*Por otro lado, la curva ROC mostró un AUC de 0.87, lo que indica que el modelo tiene una buena capacidad para distinguir entre pacientes enfermos y sanos. En conjunto, estos resultados sugieren que el modelo es bastante efectivo para predecir la enfermedad cardíaca, aunque siempre es fundamental seguir evaluando su precisión en diferentes escenarios.*"
   ]
  },
  {
   "cell_type": "code",
   "execution_count": null,
   "id": "4f9a85fc-6d2d-4c3f-a47f-98a91ebf8f7d",
   "metadata": {},
   "outputs": [],
   "source": []
  }
 ],
 "metadata": {
  "kernelspec": {
   "display_name": "Python 3 (ipykernel)",
   "language": "python",
   "name": "python3"
  },
  "language_info": {
   "codemirror_mode": {
    "name": "ipython",
    "version": 3
   },
   "file_extension": ".py",
   "mimetype": "text/x-python",
   "name": "python",
   "nbconvert_exporter": "python",
   "pygments_lexer": "ipython3",
   "version": "3.12.4"
  }
 },
 "nbformat": 4,
 "nbformat_minor": 5
}
